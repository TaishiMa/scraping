{
 "cells": [
  {
   "cell_type": "code",
   "execution_count": null,
   "id": "5e99a632-d404-44ca-958f-b2613457bf5d",
   "metadata": {},
   "outputs": [],
   "source": [
    "from selenium import webdriver\n",
    "from time import sleep"
   ]
  },
  {
   "cell_type": "code",
   "execution_count": null,
   "id": "6dc7aae9-8223-4df0-b0ba-960f4be64a5e",
   "metadata": {},
   "outputs": [],
   "source": [
    "USERNAME=\"\"\n",
    "PASSWORD=\"\""
   ]
  },
  {
   "cell_type": "code",
   "execution_count": null,
   "id": "60495760-c4cb-48b6-bea3-e6c3f08c253a",
   "metadata": {},
   "outputs": [],
   "source": [
    "driver=webdriver.Chrome(r\"C:\\chromedriver-win64\\chromedriver\")\n",
    "target_url=\"https://www.instagram.com/\"\n",
    "driver.get(target_url)\n",
    "sleep(3)"
   ]
  },
  {
   "cell_type": "code",
   "execution_count": null,
   "id": "8394e822-7112-48ad-97ca-4ff909c1c42b",
   "metadata": {},
   "outputs": [],
   "source": [
    "error_flg=False"
   ]
  },
  {
   "cell_type": "code",
   "execution_count": null,
   "id": "240c2812-4be7-4b2e-90ab-c0a066fa4219",
   "metadata": {},
   "outputs": [],
   "source": [
    "try:\n",
    "    username_input=driver.find_element_by_xpath(\"//input[@aria-label='電話番号、ユーザーネーム、またはメールアドレス']\")\n",
    "    username_input.send_keys(USERNAME)\n",
    "    sleep(1)\n",
    "\n",
    "    password_input=driver.find_element_by_xpath(\"//input[@aria-label='パスワード']\")\n",
    "    password_input.send_keys(PASSWORD)\n",
    "    sleep(1)\n",
    "\n",
    "    login_button=driver.find_element_by_xpath(\"//button[@type='submit']\")\n",
    "    login_button.submit()\n",
    "    sleep(1)\n",
    "    \n",
    "except Exception:\n",
    "    error_flg=True\n",
    "    print(\"ユーザー名、パスワード入力時にエラーが発生しました。\")"
   ]
  },
  {
   "cell_type": "code",
   "execution_count": null,
   "id": "85611c1e-4d06-4d05-9e51-76cbb5ff62c8",
   "metadata": {},
   "outputs": [],
   "source": [
    "if error_flg is False:\n",
    "    try:\n",
    "        sleep(3)\n",
    "        notnow_button1=driver.find_element_by_xpath(\"//div[@role='button' and text()='後で']\")\n",
    "        notnow_button1.click()\n",
    "        sleep(3)\n",
    "        notnow_button2=driver.find_element_by_xpath(\"//button[text()='後で']\")\n",
    "        notnow_button2.click()\n",
    "\n",
    "    except Exception:\n",
    "        pass"
   ]
  },
  {
   "cell_type": "code",
   "execution_count": null,
   "id": "73de6b82-6eff-4edf-9e2e-83606a40aeb5",
   "metadata": {},
   "outputs": [],
   "source": [
    "target_username=\"paulnicklen\"\n",
    "if error_flg is False:\n",
    "    try:\n",
    "        target_profile_url=target_url+target_username\n",
    "        driver.get(target_profile_url)\n",
    "        # sleep(3)\n",
    "        # notnow_button3=driver.find_element_by_element_by_xpath(\"//svg[@aria-label='閉じる']\")\n",
    "        # notnow_button3.click()\n",
    "        sleep(1)\n",
    "\n",
    "    except Exception:\n",
    "        print(\"検索時にエラーが発生しました。\")\n",
    "        error_flg=True"
   ]
  },
  {
   "cell_type": "code",
   "execution_count": null,
   "id": "790ed406-e99f-4f52-a0db-17e77335d7da",
   "metadata": {},
   "outputs": [],
   "source": [
    "from bs4 import BeautifulSoup"
   ]
  },
  {
   "cell_type": "code",
   "execution_count": null,
   "id": "7051d174-1e27-47c4-ad1c-53d2c6c06073",
   "metadata": {},
   "outputs": [],
   "source": [
    "if error_flg is False:\n",
    "    try:\n",
    "        post_count=driver.find_element_by_xpath(\"//div[contains(text(),'投稿')]/span/span\").text\n",
    "        # post_count=post_count.replace(\"投稿\",\"\").replace(\"件\",\"\")\n",
    "        print(\"投稿件数：\"+post_count)\n",
    "        post_count=int(post_count)\n",
    "        if post_count>12:\n",
    "            scroll_count=int(post_count/12)+1\n",
    "            try:\n",
    "                all_images=[]\n",
    "                for i in range(scroll_count):\n",
    "                    soup=BeautifulSoup(driver.page_source,\"html.parser\")\n",
    "                    for image in soup.select(\"div._aagv img\"):\n",
    "                        all_images.append(image)\n",
    "                    driver.execute_script('window.scrollTo(0,document.body.scrollHeight);')\n",
    "                    sleep(2)\n",
    "                    if i>5:\n",
    "                        break\n",
    "\n",
    "                all_images=list(dict.fromkeys(all_images))\n",
    "                for index, image in enumerate(all_images):\n",
    "                    print(\"画像番号:\"+str(index))\n",
    "                    print(\"image['src']:\"+image['src'],end=\"\\n\\n\")\n",
    "            except Exception:\n",
    "                print(\"画面スクロール中にエラーが発生しました。\")\n",
    "                error_flg=True\n",
    "    except Exception:\n",
    "        print(\"投稿数が取得できませんでした。\")\n",
    "        error_flg=True"
   ]
  },
  {
   "cell_type": "code",
   "execution_count": null,
   "id": "6d70943d-9994-42e2-8fc3-f20d76a7cc23",
   "metadata": {},
   "outputs": [],
   "source": [
    "import requests\n",
    "import re \n",
    "import os\n",
    "import shutil\n",
    "\n",
    "path=r\"\"\n",
    "\n",
    "if error_flg is False:\n",
    "    try:\n",
    "        for index, image in enumerate(all_images):\n",
    "            filename=\"image_\"+str(index)+\".jpg\"\n",
    "            image_path=os.path.join(path,filename)\n",
    "            image_link=image[\"src\"]\n",
    "    \n",
    "            url_ptn=re.compile(r\"^(http|https)://\")\n",
    "            res=url_ptn.match(image_link)\n",
    "            if res:\n",
    "                response=requests.get(image_link,stream=True)\n",
    "                with open(image_path,\"wb\") as file:\n",
    "                    shutil.copyfileobj(response.raw, file)\n",
    "    except Exception as e:\n",
    "        print(e)\n",
    "        print(str(index)+\"番目の画像のダウンロード・保存時にエラーが発生しました。\")\n",
    "        print(\"画像へのリンク:\"+image_link)"
   ]
  },
  {
   "cell_type": "code",
   "execution_count": null,
   "id": "882311f9-1201-4e1d-bf2f-83feea7287a2",
   "metadata": {},
   "outputs": [],
   "source": []
  }
 ],
 "metadata": {
  "kernelspec": {
   "display_name": "Python 3 (ipykernel)",
   "language": "python",
   "name": "python3"
  },
  "language_info": {
   "codemirror_mode": {
    "name": "ipython",
    "version": 3
   },
   "file_extension": ".py",
   "mimetype": "text/x-python",
   "name": "python",
   "nbconvert_exporter": "python",
   "pygments_lexer": "ipython3",
   "version": "3.8.20"
  }
 },
 "nbformat": 4,
 "nbformat_minor": 5
}
