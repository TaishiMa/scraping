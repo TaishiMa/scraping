{
 "cells": [
  {
   "cell_type": "code",
   "execution_count": null,
   "metadata": {},
   "outputs": [],
   "source": [
    "from selenium import webdriver"
   ]
  },
  {
   "cell_type": "code",
   "execution_count": null,
   "metadata": {},
   "outputs": [],
   "source": [
    "driver=webdriver.Chrome(r\"C:\\chromedriver-win64\\chromedriver\")\n",
    "Antenna_url=\"https://antenna.jp/\"\n",
    "driver.get(Antenna_url)\n",
    "driver.maximize_window()"
   ]
  },
  {
   "cell_type": "code",
   "execution_count": null,
   "metadata": {},
   "outputs": [],
   "source": [
    "keyword_input=driver.find_element_by_id(\"search-input\")\n",
    "keyword_input.send_keys(\"ノートPC\")\n",
    "search_button=driver.find_element_by_id(\"search-button\")\n",
    "search_button.click()"
   ]
  },
  {
   "cell_type": "code",
   "execution_count": null,
   "metadata": {},
   "outputs": [],
   "source": [
    "import time"
   ]
  },
  {
   "cell_type": "code",
   "execution_count": null,
   "metadata": {},
   "outputs": [],
   "source": [
    "while True:\n",
    "    last_height=driver.execute_script(\"return document.body.scrollHeight\")\n",
    "    driver.execute_script('window.scrollTo(0,document.body.scrollHeight);')\n",
    "    time.sleep(3)\n",
    "    new_height=driver.execute_script(\"return document.body.scrollHeight\")\n",
    "    if new_height==last_height:\n",
    "        break"
   ]
  },
  {
   "cell_type": "code",
   "execution_count": null,
   "metadata": {},
   "outputs": [],
   "source": [
    "from bs4 import BeautifulSoup\n",
    "\n",
    "all_images=[]\n",
    "soup=BeautifulSoup(driver.page_source,\"html.parser\")\n",
    "elems_title=soup.select(\"div.title\")\n",
    "elems_url=soup.select(\"a.thumbnail-content\")\n",
    "elems_img=soup.select(\"div.image img\")\n",
    "\n",
    "i=0\n",
    "for elem_title,elem_url,elem_img in zip(elems_title,elems_url,elems_img):\n",
    "    all_images.append(elem_img)\n",
    "    print(\"No.\"+str(i))\n",
    "    print(\"タイトル：\"+elem_title.string) \n",
    "    print(\"URL：\"+elem_url[\"href\"])\n",
    "    print(\"画像：\"+elem_img[\"src\"],end=\"\\n\\n\")\n",
    "    i+=1"
   ]
  },
  {
   "cell_type": "code",
   "execution_count": null,
   "metadata": {},
   "outputs": [],
   "source": [
    "import os\n",
    "import requests\n",
    "import shutil\n",
    "\n",
    "path=r\"\"\n",
    "\n",
    "for index,image in enumerate(all_images):\n",
    "    filename=\"image_\"+str(index)+\".jpg\"\n",
    "    image_path=os.path.join(path,filename)\n",
    "    res=requests.get(image[\"src\"],stream=True)\n",
    "    with open(image_path,\"wb\") as file:\n",
    "        shutil.copyfileobj(res.raw,file)\n"
   ]
  },
  {
   "cell_type": "code",
   "execution_count": null,
   "metadata": {},
   "outputs": [],
   "source": [
    "import csv\n",
    "import datetime\n",
    "\n",
    "csv_date=datetime.datetime.today().strftime(\"%Y%m%d\")\n",
    "csv_file_name=\"Antenna_\"+csv_date+\".csv\"\n",
    "\n",
    "f = open(csv_file_name,\"w\",encoding=\"cp932\",errors=\"ignore\")\n",
    "writer=csv.writer(f, lineterminator=\"\\n\")\n",
    "csv_header=[\"タイトル\",\"URL\"]\n",
    "writer.writerow(csv_header)\n",
    "\n",
    "i = 0\n",
    "for elem_title,elem_url in zip(elems_title,elems_url):\n",
    "    csvlist=[]\n",
    "    csvlist.append(elem_title.string)\n",
    "    csvlist.append(elem_url[\"href\"])\n",
    "    writer.writerow(csvlist)\n",
    "    i += 1      \n",
    "f.close()"
   ]
  },
  {
   "cell_type": "code",
   "execution_count": null,
   "metadata": {},
   "outputs": [],
   "source": []
  },
  {
   "cell_type": "code",
   "execution_count": null,
   "metadata": {},
   "outputs": [],
   "source": []
  },
  {
   "cell_type": "code",
   "execution_count": null,
   "metadata": {},
   "outputs": [],
   "source": []
  },
  {
   "cell_type": "code",
   "execution_count": null,
   "metadata": {},
   "outputs": [],
   "source": []
  },
  {
   "cell_type": "code",
   "execution_count": null,
   "metadata": {},
   "outputs": [],
   "source": []
  },
  {
   "cell_type": "code",
   "execution_count": null,
   "metadata": {},
   "outputs": [],
   "source": []
  },
  {
   "cell_type": "code",
   "execution_count": null,
   "metadata": {},
   "outputs": [],
   "source": []
  }
 ],
 "metadata": {
  "kernelspec": {
   "display_name": "Python 3 (ipykernel)",
   "language": "python",
   "name": "python3"
  },
  "language_info": {
   "codemirror_mode": {
    "name": "ipython",
    "version": 3
   },
   "file_extension": ".py",
   "mimetype": "text/x-python",
   "name": "python",
   "nbconvert_exporter": "python",
   "pygments_lexer": "ipython3",
   "version": "3.8.20"
  }
 },
 "nbformat": 4,
 "nbformat_minor": 4
}
